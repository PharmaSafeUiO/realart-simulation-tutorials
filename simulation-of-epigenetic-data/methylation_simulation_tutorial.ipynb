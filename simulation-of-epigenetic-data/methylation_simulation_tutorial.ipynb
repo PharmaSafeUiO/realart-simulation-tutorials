{
 "cells": [
  {
   "cell_type": "markdown",
   "source": [
    "# Methylation Simulation Tutorial"
   ],
   "metadata": {
    "collapsed": false
   },
   "id": "2d29e1001455f556"
  },
  {
   "cell_type": "markdown",
   "source": [
    "The aim of this jupyter notebook is to provide a tutorial for simple simulation of methylation data based on a real-world example.\n",
    "\n",
    "First we import the necessary libraries."
   ],
   "metadata": {
    "collapsed": false
   },
   "id": "6e87468686eebc69"
  },
  {
   "cell_type": "code",
   "outputs": [],
   "source": [
    "import pandas as pd\n",
    "\n",
    "from methylation_simulation import simulate_methyl_data, beta_to_m"
   ],
   "metadata": {
    "collapsed": true,
    "ExecuteTime": {
     "end_time": "2025-03-21T08:43:31.494809Z",
     "start_time": "2025-03-21T08:43:29.788762Z"
    }
   },
   "id": "initial_id",
   "execution_count": 1
  },
  {
   "cell_type": "markdown",
   "source": [
    "Now we load a real-world dataset that we will use as a basis for our simulation."
   ],
   "metadata": {
    "collapsed": false
   },
   "id": "35d25d96e8518583"
  },
  {
   "cell_type": "code",
   "outputs": [
    {
     "data": {
      "text/plain": "                   0         1         2         3         4         5  \\\ncg00000029  0.211696  0.114783  0.536747  0.165536  0.160484  0.119399   \ncg00000103  0.845680  0.684253  0.814065  0.782214  0.467743  0.744215   \ncg00000109  0.941455  0.904912  0.904288  0.913657  0.916486  0.936152   \ncg00000155  0.963702  0.948639  0.956757  0.952712  0.954658  0.943447   \ncg00000158  0.741913  0.947776  0.963727  0.956434  0.939483  0.922293   \n\n                   6         7         8         9  ...        25        26  \\\ncg00000029  0.506022  0.144923  0.124337  0.114317  ...  0.152310  0.126580   \ncg00000103  0.758936  0.429490  0.393501  0.177543  ...  0.240991  0.305295   \ncg00000109  0.894816  0.930336  0.939587  0.915736  ...  0.715386  0.954416   \ncg00000155  0.938406  0.954278  0.953473  0.948928  ...  0.914553  0.958550   \ncg00000158  0.922727  0.884528  0.919704  0.949012  ...  0.592271  0.968543   \n\n                  27        28        29        30        31        32  \\\ncg00000029  0.054912  0.078791  0.064953  0.078761  0.078993  0.056633   \ncg00000103  0.095659  0.073466  0.098659  0.322047  0.263926  0.083063   \ncg00000109  0.928096  0.925447  0.935925  0.832409  0.860549  0.899125   \ncg00000155  0.959193  0.951843  0.946880  0.938784  0.943960  0.948379   \ncg00000158  0.957689  0.957843  0.953568  0.884271  0.837953  0.936220   \n\n                  33        34  \ncg00000029  0.087432  0.074412  \ncg00000103  0.111879  0.397761  \ncg00000109  0.918758  0.908527  \ncg00000155  0.953269  0.945896  \ncg00000158  0.956689  0.926489  \n\n[5 rows x 35 columns]",
      "text/html": "<div>\n<style scoped>\n    .dataframe tbody tr th:only-of-type {\n        vertical-align: middle;\n    }\n\n    .dataframe tbody tr th {\n        vertical-align: top;\n    }\n\n    .dataframe thead th {\n        text-align: right;\n    }\n</style>\n<table border=\"1\" class=\"dataframe\">\n  <thead>\n    <tr style=\"text-align: right;\">\n      <th></th>\n      <th>0</th>\n      <th>1</th>\n      <th>2</th>\n      <th>3</th>\n      <th>4</th>\n      <th>5</th>\n      <th>6</th>\n      <th>7</th>\n      <th>8</th>\n      <th>9</th>\n      <th>...</th>\n      <th>25</th>\n      <th>26</th>\n      <th>27</th>\n      <th>28</th>\n      <th>29</th>\n      <th>30</th>\n      <th>31</th>\n      <th>32</th>\n      <th>33</th>\n      <th>34</th>\n    </tr>\n  </thead>\n  <tbody>\n    <tr>\n      <th>cg00000029</th>\n      <td>0.211696</td>\n      <td>0.114783</td>\n      <td>0.536747</td>\n      <td>0.165536</td>\n      <td>0.160484</td>\n      <td>0.119399</td>\n      <td>0.506022</td>\n      <td>0.144923</td>\n      <td>0.124337</td>\n      <td>0.114317</td>\n      <td>...</td>\n      <td>0.152310</td>\n      <td>0.126580</td>\n      <td>0.054912</td>\n      <td>0.078791</td>\n      <td>0.064953</td>\n      <td>0.078761</td>\n      <td>0.078993</td>\n      <td>0.056633</td>\n      <td>0.087432</td>\n      <td>0.074412</td>\n    </tr>\n    <tr>\n      <th>cg00000103</th>\n      <td>0.845680</td>\n      <td>0.684253</td>\n      <td>0.814065</td>\n      <td>0.782214</td>\n      <td>0.467743</td>\n      <td>0.744215</td>\n      <td>0.758936</td>\n      <td>0.429490</td>\n      <td>0.393501</td>\n      <td>0.177543</td>\n      <td>...</td>\n      <td>0.240991</td>\n      <td>0.305295</td>\n      <td>0.095659</td>\n      <td>0.073466</td>\n      <td>0.098659</td>\n      <td>0.322047</td>\n      <td>0.263926</td>\n      <td>0.083063</td>\n      <td>0.111879</td>\n      <td>0.397761</td>\n    </tr>\n    <tr>\n      <th>cg00000109</th>\n      <td>0.941455</td>\n      <td>0.904912</td>\n      <td>0.904288</td>\n      <td>0.913657</td>\n      <td>0.916486</td>\n      <td>0.936152</td>\n      <td>0.894816</td>\n      <td>0.930336</td>\n      <td>0.939587</td>\n      <td>0.915736</td>\n      <td>...</td>\n      <td>0.715386</td>\n      <td>0.954416</td>\n      <td>0.928096</td>\n      <td>0.925447</td>\n      <td>0.935925</td>\n      <td>0.832409</td>\n      <td>0.860549</td>\n      <td>0.899125</td>\n      <td>0.918758</td>\n      <td>0.908527</td>\n    </tr>\n    <tr>\n      <th>cg00000155</th>\n      <td>0.963702</td>\n      <td>0.948639</td>\n      <td>0.956757</td>\n      <td>0.952712</td>\n      <td>0.954658</td>\n      <td>0.943447</td>\n      <td>0.938406</td>\n      <td>0.954278</td>\n      <td>0.953473</td>\n      <td>0.948928</td>\n      <td>...</td>\n      <td>0.914553</td>\n      <td>0.958550</td>\n      <td>0.959193</td>\n      <td>0.951843</td>\n      <td>0.946880</td>\n      <td>0.938784</td>\n      <td>0.943960</td>\n      <td>0.948379</td>\n      <td>0.953269</td>\n      <td>0.945896</td>\n    </tr>\n    <tr>\n      <th>cg00000158</th>\n      <td>0.741913</td>\n      <td>0.947776</td>\n      <td>0.963727</td>\n      <td>0.956434</td>\n      <td>0.939483</td>\n      <td>0.922293</td>\n      <td>0.922727</td>\n      <td>0.884528</td>\n      <td>0.919704</td>\n      <td>0.949012</td>\n      <td>...</td>\n      <td>0.592271</td>\n      <td>0.968543</td>\n      <td>0.957689</td>\n      <td>0.957843</td>\n      <td>0.953568</td>\n      <td>0.884271</td>\n      <td>0.837953</td>\n      <td>0.936220</td>\n      <td>0.956689</td>\n      <td>0.926489</td>\n    </tr>\n  </tbody>\n</table>\n<p>5 rows × 35 columns</p>\n</div>"
     },
     "execution_count": 2,
     "metadata": {},
     "output_type": "execute_result"
    }
   ],
   "source": [
    "realworld_data_path = 'realworld_data.tsv'\n",
    "realworld_data = pd.read_csv(realworld_data_path, sep='\\t', index_col=0)\n",
    "realworld_data.head()"
   ],
   "metadata": {
    "collapsed": false,
    "ExecuteTime": {
     "end_time": "2025-03-21T08:43:32.120899Z",
     "start_time": "2025-03-21T08:43:31.494730Z"
    }
   },
   "id": "93f3dae127979265",
   "execution_count": 2
  },
  {
   "cell_type": "markdown",
   "source": [
    "The real-world dataset is a matrix of methylation values for different sites and observations. The columns represent the observations and the rows the sites. \n",
    "\n",
    "We will transpose the matrix so that the columns represent the sites and the rows represent the observations, which is a common way of data representation in statistics and computer science."
   ],
   "metadata": {
    "collapsed": false
   },
   "id": "54abcaa977c692d7"
  },
  {
   "cell_type": "code",
   "outputs": [
    {
     "data": {
      "text/plain": "   cg00000029  cg00000103  cg00000109  cg00000155  cg00000158  cg00000165  \\\n0    0.211696    0.845680    0.941455    0.963702    0.741913    0.092816   \n1    0.114783    0.684253    0.904912    0.948639    0.947776    0.194754   \n2    0.536747    0.814065    0.904288    0.956757    0.963727    0.250221   \n3    0.165536    0.782214    0.913657    0.952712    0.956434    0.501044   \n4    0.160484    0.467743    0.916486    0.954658    0.939483    0.682332   \n5    0.119399    0.744215    0.936152    0.943447    0.922293    0.435900   \n6    0.506022    0.758936    0.894816    0.938406    0.922727    0.342186   \n7    0.144923    0.429490    0.930336    0.954278    0.884528    0.423646   \n8    0.124337    0.393501    0.939587    0.953473    0.919704    0.847006   \n9    0.114317    0.177543    0.915736    0.948928    0.949012    0.860114   \n\n   cg00000221  cg00000236  cg00000292  cg00000321  \n0    0.932019    0.934972    0.616315    0.367206  \n1    0.699980    0.828949    0.743092    0.560630  \n2    0.921995    0.891282    0.777081    0.296366  \n3    0.770795    0.848735    0.593127    0.298586  \n4    0.894427    0.850622    0.636629    0.442481  \n5    0.908002    0.935981    0.786134    0.497686  \n6    0.733169    0.905944    0.756986    0.417028  \n7    0.911338    0.907349    0.556394    0.350503  \n8    0.750390    0.935111    0.739626    0.785203  \n9    0.840515    0.931237    0.476269    0.832337  ",
      "text/html": "<div>\n<style scoped>\n    .dataframe tbody tr th:only-of-type {\n        vertical-align: middle;\n    }\n\n    .dataframe tbody tr th {\n        vertical-align: top;\n    }\n\n    .dataframe thead th {\n        text-align: right;\n    }\n</style>\n<table border=\"1\" class=\"dataframe\">\n  <thead>\n    <tr style=\"text-align: right;\">\n      <th></th>\n      <th>cg00000029</th>\n      <th>cg00000103</th>\n      <th>cg00000109</th>\n      <th>cg00000155</th>\n      <th>cg00000158</th>\n      <th>cg00000165</th>\n      <th>cg00000221</th>\n      <th>cg00000236</th>\n      <th>cg00000292</th>\n      <th>cg00000321</th>\n    </tr>\n  </thead>\n  <tbody>\n    <tr>\n      <th>0</th>\n      <td>0.211696</td>\n      <td>0.845680</td>\n      <td>0.941455</td>\n      <td>0.963702</td>\n      <td>0.741913</td>\n      <td>0.092816</td>\n      <td>0.932019</td>\n      <td>0.934972</td>\n      <td>0.616315</td>\n      <td>0.367206</td>\n    </tr>\n    <tr>\n      <th>1</th>\n      <td>0.114783</td>\n      <td>0.684253</td>\n      <td>0.904912</td>\n      <td>0.948639</td>\n      <td>0.947776</td>\n      <td>0.194754</td>\n      <td>0.699980</td>\n      <td>0.828949</td>\n      <td>0.743092</td>\n      <td>0.560630</td>\n    </tr>\n    <tr>\n      <th>2</th>\n      <td>0.536747</td>\n      <td>0.814065</td>\n      <td>0.904288</td>\n      <td>0.956757</td>\n      <td>0.963727</td>\n      <td>0.250221</td>\n      <td>0.921995</td>\n      <td>0.891282</td>\n      <td>0.777081</td>\n      <td>0.296366</td>\n    </tr>\n    <tr>\n      <th>3</th>\n      <td>0.165536</td>\n      <td>0.782214</td>\n      <td>0.913657</td>\n      <td>0.952712</td>\n      <td>0.956434</td>\n      <td>0.501044</td>\n      <td>0.770795</td>\n      <td>0.848735</td>\n      <td>0.593127</td>\n      <td>0.298586</td>\n    </tr>\n    <tr>\n      <th>4</th>\n      <td>0.160484</td>\n      <td>0.467743</td>\n      <td>0.916486</td>\n      <td>0.954658</td>\n      <td>0.939483</td>\n      <td>0.682332</td>\n      <td>0.894427</td>\n      <td>0.850622</td>\n      <td>0.636629</td>\n      <td>0.442481</td>\n    </tr>\n    <tr>\n      <th>5</th>\n      <td>0.119399</td>\n      <td>0.744215</td>\n      <td>0.936152</td>\n      <td>0.943447</td>\n      <td>0.922293</td>\n      <td>0.435900</td>\n      <td>0.908002</td>\n      <td>0.935981</td>\n      <td>0.786134</td>\n      <td>0.497686</td>\n    </tr>\n    <tr>\n      <th>6</th>\n      <td>0.506022</td>\n      <td>0.758936</td>\n      <td>0.894816</td>\n      <td>0.938406</td>\n      <td>0.922727</td>\n      <td>0.342186</td>\n      <td>0.733169</td>\n      <td>0.905944</td>\n      <td>0.756986</td>\n      <td>0.417028</td>\n    </tr>\n    <tr>\n      <th>7</th>\n      <td>0.144923</td>\n      <td>0.429490</td>\n      <td>0.930336</td>\n      <td>0.954278</td>\n      <td>0.884528</td>\n      <td>0.423646</td>\n      <td>0.911338</td>\n      <td>0.907349</td>\n      <td>0.556394</td>\n      <td>0.350503</td>\n    </tr>\n    <tr>\n      <th>8</th>\n      <td>0.124337</td>\n      <td>0.393501</td>\n      <td>0.939587</td>\n      <td>0.953473</td>\n      <td>0.919704</td>\n      <td>0.847006</td>\n      <td>0.750390</td>\n      <td>0.935111</td>\n      <td>0.739626</td>\n      <td>0.785203</td>\n    </tr>\n    <tr>\n      <th>9</th>\n      <td>0.114317</td>\n      <td>0.177543</td>\n      <td>0.915736</td>\n      <td>0.948928</td>\n      <td>0.949012</td>\n      <td>0.860114</td>\n      <td>0.840515</td>\n      <td>0.931237</td>\n      <td>0.476269</td>\n      <td>0.832337</td>\n    </tr>\n  </tbody>\n</table>\n</div>"
     },
     "execution_count": 3,
     "metadata": {},
     "output_type": "execute_result"
    }
   ],
   "source": [
    "realworld_data = realworld_data.transpose()\n",
    "# We print a subset of the data\n",
    "realworld_data.iloc[0:10,0:10]"
   ],
   "metadata": {
    "collapsed": false,
    "ExecuteTime": {
     "end_time": "2025-03-21T08:43:32.127040Z",
     "start_time": "2025-03-21T08:43:32.123177Z"
    }
   },
   "id": "8c9113aef196e910",
   "execution_count": 3
  },
  {
   "cell_type": "markdown",
   "source": [
    "Now based on the real-world data we will simulate a simple dataset without dependencies between the sites.\n",
    "\n",
    "The function samples *n_sites* sites from the *realworld_data*, estimates their alpha and beta parameters and then draws *n_observations* observations from a beta distribution with these parameters."
   ],
   "metadata": {
    "collapsed": false
   },
   "id": "e0f6a28f71e9924b"
  },
  {
   "cell_type": "code",
   "outputs": [
    {
     "name": "stdout",
     "output_type": "stream",
     "text": [
      "[[0.05832605 0.30781023 0.85954177 ... 0.16905759 0.26342289 0.05076672]\n",
      " [0.02153113 0.49774417 0.82880282 ... 0.75494354 0.20204557 0.04862059]\n",
      " [0.07080927 0.64044734 0.92387861 ... 0.35284704 0.09902826 0.05124959]\n",
      " ...\n",
      " [0.02783    0.41913375 0.84849465 ... 0.8364936  0.2193916  0.03085039]\n",
      " [0.03740175 0.64650398 0.83749791 ... 0.8251455  0.1765296  0.04104074]\n",
      " [0.04779606 0.15927804 0.87011339 ... 0.03510642 0.02902297 0.04074813]]\n"
     ]
    }
   ],
   "source": [
    "simulated_methylation = simulate_methyl_data(realworld_data = realworld_data,\n",
    "                                      n_sites=1000,\n",
    "                                      n_observations=20,\n",
    "                                      dependencies=False)\n",
    "\n",
    "print(simulated_methylation)"
   ],
   "metadata": {
    "collapsed": false,
    "ExecuteTime": {
     "end_time": "2025-03-21T08:43:32.245918Z",
     "start_time": "2025-03-21T08:43:32.127231Z"
    }
   },
   "id": "b323e6244d205f11",
   "execution_count": 4
  },
  {
   "cell_type": "markdown",
   "source": [
    "However, it is known that the methylation values of different sites are correlated. These correlations often arise due to the clustering of CpG sites into CpG islands, where methylation patterns tend to be locally similar. \n",
    "\n",
    "We can simulate this by setting the *dependencies* parameter to True. Additionally, one needs to provide the *bin_size* parameter, which determines the size of the islands and the *correlation_coefficient_distribution* parameter, which is an array of correlation coefficients. The function will then create islands of CpG sites with the given correlation coefficients.\n",
    "\n",
    "In this example we set the island size to 300 and the correlation coefficients to 0.9."
   ],
   "metadata": {
    "collapsed": false
   },
   "id": "35063a56bde605e6"
  },
  {
   "cell_type": "code",
   "outputs": [
    {
     "name": "stdout",
     "output_type": "stream",
     "text": [
      "[[0.94719204 0.43942687 0.74125659 ... 0.03128023 0.43717432 0.04391987]\n",
      " [0.92224912 0.01826001 0.82041528 ... 0.03834341 0.55073663 0.04649562]\n",
      " [0.94510832 0.08146683 0.86311469 ... 0.03432837 0.31043662 0.04859929]\n",
      " ...\n",
      " [0.91842423 0.22439602 0.87238976 ... 0.04537102 0.2207089  0.03035733]\n",
      " [0.8306424  0.05667001 0.93438753 ... 0.02773596 0.3487177  0.04310363]\n",
      " [0.86422859 0.23702435 0.86692318 ... 0.02553383 0.27874962 0.04644571]]\n"
     ]
    }
   ],
   "source": [
    "simulated_methylation_with_dependencies = simulate_methyl_data(realworld_data = realworld_data,\n",
    "                                          n_sites=1000,\n",
    "                                          n_observations=20,\n",
    "                                          dependencies=True,\n",
    "                                          bin_size=300,\n",
    "                                          correlation_coefficient_distribution=[(-0.85, -0.7), (-0.1, 0.1), (0.7, 0.85)])\n",
    "\n",
    "print(simulated_methylation_with_dependencies)"
   ],
   "metadata": {
    "collapsed": false,
    "ExecuteTime": {
     "end_time": "2025-03-21T08:43:32.698453Z",
     "start_time": "2025-03-21T08:43:32.210568Z"
    }
   },
   "id": "d54a98e13e6c1b66",
   "execution_count": 5
  },
  {
   "cell_type": "markdown",
   "source": [
    "Often one is interested in methylation data in m scale since it provides a more statistically suitable representation for downstream analyses. The methylation values can be transformed as follows:"
   ],
   "metadata": {
    "collapsed": false
   },
   "id": "92415fdf3fa82cfb"
  },
  {
   "cell_type": "code",
   "outputs": [
    {
     "name": "stdout",
     "output_type": "stream",
     "text": [
      "[[-4.0130154  -1.16912646  2.61342661 ... -2.29723365 -1.48345584\n",
      "  -4.22480776]\n",
      " [-5.5060302  -0.013018    2.27536996 ...  1.6232546  -1.98162561\n",
      "  -4.29038155]\n",
      " [-3.71396465  0.8328769   3.60132944 ... -0.87506381 -3.18556969\n",
      "  -4.21041609]\n",
      " ...\n",
      " [-5.12649578 -0.47079528  2.48553682 ...  2.35500734 -1.83109072\n",
      "  -4.9733589 ]\n",
      " [-4.68575617  0.87096528  2.36562735 ...  2.23849365 -2.22180665\n",
      "  -4.54634083]\n",
      " [-4.31630715 -2.4000814   2.7439507  ... -4.78056316 -5.06417018\n",
      "  -4.55710393]]\n",
      "[[ 4.16482951 -0.35127948  1.5184509  ... -4.95275637 -0.36447948\n",
      "  -4.44418576]\n",
      " [ 3.56822565 -5.74858115  2.19168974 ... -4.64847137  0.29380113\n",
      "  -4.35807298]\n",
      " [ 4.10582018 -3.49504711  2.6565847  ... -4.81405931 -1.1513844\n",
      "  -4.29104588]\n",
      " ...\n",
      " [ 3.49294805 -1.78927309  2.77322874 ... -4.39509704 -1.82001756\n",
      "  -4.99733654]\n",
      " [ 2.29415474 -4.05710528  3.83197915 ... -5.13151872 -0.90122344\n",
      "  -4.47248149]\n",
      " [ 2.67023327 -1.68660173  2.70364483 ... -5.25413021 -1.37153031\n",
      "  -4.35969795]]\n"
     ]
    }
   ],
   "source": [
    "simulated_methylation_mscale = beta_to_m(simulated_methylation)\n",
    "print(simulated_methylation_mscale)\n",
    "\n",
    "simulated_methylation_with_dependencies_mscale = beta_to_m(simulated_methylation_with_dependencies)\n",
    "print(simulated_methylation_with_dependencies_mscale)"
   ],
   "metadata": {
    "collapsed": false,
    "ExecuteTime": {
     "end_time": "2025-03-21T08:43:32.699473Z",
     "start_time": "2025-03-21T08:43:32.694389Z"
    }
   },
   "id": "b9da99167bf116cc",
   "execution_count": 6
  }
 ],
 "metadata": {
  "kernelspec": {
   "display_name": "Python 3",
   "language": "python",
   "name": "python3"
  },
  "language_info": {
   "codemirror_mode": {
    "name": "ipython",
    "version": 2
   },
   "file_extension": ".py",
   "mimetype": "text/x-python",
   "name": "python",
   "nbconvert_exporter": "python",
   "pygments_lexer": "ipython2",
   "version": "2.7.6"
  }
 },
 "nbformat": 4,
 "nbformat_minor": 5
}
