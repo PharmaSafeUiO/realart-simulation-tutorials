{
 "cells": [
  {
   "cell_type": "markdown",
   "source": [
    "# Methylation Simulation Tutorial"
   ],
   "metadata": {
    "collapsed": false
   },
   "id": "2d29e1001455f556"
  },
  {
   "cell_type": "markdown",
   "source": [
    "The aim of this jupyter notebook is to provide a tutorial for simple simulation of methylation data based on a real-world example.\n",
    "\n",
    "First we import the necessary libraries."
   ],
   "metadata": {
    "collapsed": false
   },
   "id": "6e87468686eebc69"
  },
  {
   "cell_type": "code",
   "outputs": [],
   "source": [
    "import pandas as pd\n",
    "\n",
    "from methylation_simulation import simulate_methyl_data, beta_to_m"
   ],
   "metadata": {
    "collapsed": true,
    "ExecuteTime": {
     "end_time": "2025-03-21T09:56:09.414110Z",
     "start_time": "2025-03-21T09:56:08.829753Z"
    }
   },
   "id": "initial_id",
   "execution_count": 1
  },
  {
   "cell_type": "markdown",
   "source": [
    "Now we load a real-world dataset that we will use as a basis for our simulation."
   ],
   "metadata": {
    "collapsed": false
   },
   "id": "35d25d96e8518583"
  },
  {
   "cell_type": "code",
   "outputs": [
    {
     "data": {
      "text/plain": "                   0         1         2         3         4         5  \\\nUnnamed: 0                                                               \ncg00000029  0.211696  0.114783  0.536747  0.165536  0.160484  0.119399   \ncg00000103  0.845680  0.684253  0.814065  0.782214  0.467743  0.744215   \ncg00000109  0.941455  0.904912  0.904288  0.913657  0.916486  0.936152   \ncg00000155  0.963702  0.948639  0.956757  0.952712  0.954658  0.943447   \ncg00000158  0.741913  0.947776  0.963727  0.956434  0.939483  0.922293   \n\n                   6         7         8         9  ...        25        26  \\\nUnnamed: 0                                          ...                       \ncg00000029  0.506022  0.144923  0.124337  0.114317  ...  0.152310  0.126580   \ncg00000103  0.758936  0.429490  0.393501  0.177543  ...  0.240991  0.305295   \ncg00000109  0.894816  0.930336  0.939587  0.915736  ...  0.715386  0.954416   \ncg00000155  0.938406  0.954278  0.953473  0.948928  ...  0.914553  0.958550   \ncg00000158  0.922727  0.884528  0.919704  0.949012  ...  0.592271  0.968543   \n\n                  27        28        29        30        31        32  \\\nUnnamed: 0                                                               \ncg00000029  0.054912  0.078791  0.064953  0.078761  0.078993  0.056633   \ncg00000103  0.095659  0.073466  0.098659  0.322047  0.263926  0.083063   \ncg00000109  0.928096  0.925447  0.935925  0.832409  0.860549  0.899125   \ncg00000155  0.959193  0.951843  0.946880  0.938784  0.943960  0.948379   \ncg00000158  0.957689  0.957843  0.953568  0.884271  0.837953  0.936220   \n\n                  33        34  \nUnnamed: 0                      \ncg00000029  0.087432  0.074412  \ncg00000103  0.111879  0.397761  \ncg00000109  0.918758  0.908527  \ncg00000155  0.953269  0.945896  \ncg00000158  0.956689  0.926489  \n\n[5 rows x 35 columns]",
      "text/html": "<div>\n<style scoped>\n    .dataframe tbody tr th:only-of-type {\n        vertical-align: middle;\n    }\n\n    .dataframe tbody tr th {\n        vertical-align: top;\n    }\n\n    .dataframe thead th {\n        text-align: right;\n    }\n</style>\n<table border=\"1\" class=\"dataframe\">\n  <thead>\n    <tr style=\"text-align: right;\">\n      <th></th>\n      <th>0</th>\n      <th>1</th>\n      <th>2</th>\n      <th>3</th>\n      <th>4</th>\n      <th>5</th>\n      <th>6</th>\n      <th>7</th>\n      <th>8</th>\n      <th>9</th>\n      <th>...</th>\n      <th>25</th>\n      <th>26</th>\n      <th>27</th>\n      <th>28</th>\n      <th>29</th>\n      <th>30</th>\n      <th>31</th>\n      <th>32</th>\n      <th>33</th>\n      <th>34</th>\n    </tr>\n    <tr>\n      <th>Unnamed: 0</th>\n      <th></th>\n      <th></th>\n      <th></th>\n      <th></th>\n      <th></th>\n      <th></th>\n      <th></th>\n      <th></th>\n      <th></th>\n      <th></th>\n      <th></th>\n      <th></th>\n      <th></th>\n      <th></th>\n      <th></th>\n      <th></th>\n      <th></th>\n      <th></th>\n      <th></th>\n      <th></th>\n      <th></th>\n    </tr>\n  </thead>\n  <tbody>\n    <tr>\n      <th>cg00000029</th>\n      <td>0.211696</td>\n      <td>0.114783</td>\n      <td>0.536747</td>\n      <td>0.165536</td>\n      <td>0.160484</td>\n      <td>0.119399</td>\n      <td>0.506022</td>\n      <td>0.144923</td>\n      <td>0.124337</td>\n      <td>0.114317</td>\n      <td>...</td>\n      <td>0.152310</td>\n      <td>0.126580</td>\n      <td>0.054912</td>\n      <td>0.078791</td>\n      <td>0.064953</td>\n      <td>0.078761</td>\n      <td>0.078993</td>\n      <td>0.056633</td>\n      <td>0.087432</td>\n      <td>0.074412</td>\n    </tr>\n    <tr>\n      <th>cg00000103</th>\n      <td>0.845680</td>\n      <td>0.684253</td>\n      <td>0.814065</td>\n      <td>0.782214</td>\n      <td>0.467743</td>\n      <td>0.744215</td>\n      <td>0.758936</td>\n      <td>0.429490</td>\n      <td>0.393501</td>\n      <td>0.177543</td>\n      <td>...</td>\n      <td>0.240991</td>\n      <td>0.305295</td>\n      <td>0.095659</td>\n      <td>0.073466</td>\n      <td>0.098659</td>\n      <td>0.322047</td>\n      <td>0.263926</td>\n      <td>0.083063</td>\n      <td>0.111879</td>\n      <td>0.397761</td>\n    </tr>\n    <tr>\n      <th>cg00000109</th>\n      <td>0.941455</td>\n      <td>0.904912</td>\n      <td>0.904288</td>\n      <td>0.913657</td>\n      <td>0.916486</td>\n      <td>0.936152</td>\n      <td>0.894816</td>\n      <td>0.930336</td>\n      <td>0.939587</td>\n      <td>0.915736</td>\n      <td>...</td>\n      <td>0.715386</td>\n      <td>0.954416</td>\n      <td>0.928096</td>\n      <td>0.925447</td>\n      <td>0.935925</td>\n      <td>0.832409</td>\n      <td>0.860549</td>\n      <td>0.899125</td>\n      <td>0.918758</td>\n      <td>0.908527</td>\n    </tr>\n    <tr>\n      <th>cg00000155</th>\n      <td>0.963702</td>\n      <td>0.948639</td>\n      <td>0.956757</td>\n      <td>0.952712</td>\n      <td>0.954658</td>\n      <td>0.943447</td>\n      <td>0.938406</td>\n      <td>0.954278</td>\n      <td>0.953473</td>\n      <td>0.948928</td>\n      <td>...</td>\n      <td>0.914553</td>\n      <td>0.958550</td>\n      <td>0.959193</td>\n      <td>0.951843</td>\n      <td>0.946880</td>\n      <td>0.938784</td>\n      <td>0.943960</td>\n      <td>0.948379</td>\n      <td>0.953269</td>\n      <td>0.945896</td>\n    </tr>\n    <tr>\n      <th>cg00000158</th>\n      <td>0.741913</td>\n      <td>0.947776</td>\n      <td>0.963727</td>\n      <td>0.956434</td>\n      <td>0.939483</td>\n      <td>0.922293</td>\n      <td>0.922727</td>\n      <td>0.884528</td>\n      <td>0.919704</td>\n      <td>0.949012</td>\n      <td>...</td>\n      <td>0.592271</td>\n      <td>0.968543</td>\n      <td>0.957689</td>\n      <td>0.957843</td>\n      <td>0.953568</td>\n      <td>0.884271</td>\n      <td>0.837953</td>\n      <td>0.936220</td>\n      <td>0.956689</td>\n      <td>0.926489</td>\n    </tr>\n  </tbody>\n</table>\n<p>5 rows × 35 columns</p>\n</div>"
     },
     "execution_count": 2,
     "metadata": {},
     "output_type": "execute_result"
    }
   ],
   "source": [
    "realworld_data_path = 'realworld_data.tsv'\n",
    "realworld_data = pd.read_csv(realworld_data_path, sep='\\t', index_col=0)\n",
    "realworld_data.head()"
   ],
   "metadata": {
    "collapsed": false,
    "ExecuteTime": {
     "end_time": "2025-03-21T09:56:09.572510Z",
     "start_time": "2025-03-21T09:56:09.415100Z"
    }
   },
   "id": "93f3dae127979265",
   "execution_count": 2
  },
  {
   "cell_type": "markdown",
   "source": [
    "The real-world dataset is a matrix of methylation values for different sites and observations. The columns represent the observations and the rows the sites. \n",
    "\n",
    "We will transpose the matrix so that the columns represent the sites and the rows represent the observations, which is a common way of data representation in statistics and computer science."
   ],
   "metadata": {
    "collapsed": false
   },
   "id": "54abcaa977c692d7"
  },
  {
   "cell_type": "code",
   "outputs": [
    {
     "data": {
      "text/plain": "Unnamed: 0  cg00000029  cg00000103  cg00000109  cg00000155  cg00000158  \\\n0             0.211696    0.845680    0.941455    0.963702    0.741913   \n1             0.114783    0.684253    0.904912    0.948639    0.947776   \n2             0.536747    0.814065    0.904288    0.956757    0.963727   \n3             0.165536    0.782214    0.913657    0.952712    0.956434   \n4             0.160484    0.467743    0.916486    0.954658    0.939483   \n5             0.119399    0.744215    0.936152    0.943447    0.922293   \n6             0.506022    0.758936    0.894816    0.938406    0.922727   \n7             0.144923    0.429490    0.930336    0.954278    0.884528   \n8             0.124337    0.393501    0.939587    0.953473    0.919704   \n9             0.114317    0.177543    0.915736    0.948928    0.949012   \n\nUnnamed: 0  cg00000165  cg00000221  cg00000236  cg00000292  cg00000321  \n0             0.092816    0.932019    0.934972    0.616315    0.367206  \n1             0.194754    0.699980    0.828949    0.743092    0.560630  \n2             0.250221    0.921995    0.891282    0.777081    0.296366  \n3             0.501044    0.770795    0.848735    0.593127    0.298586  \n4             0.682332    0.894427    0.850622    0.636629    0.442481  \n5             0.435900    0.908002    0.935981    0.786134    0.497686  \n6             0.342186    0.733169    0.905944    0.756986    0.417028  \n7             0.423646    0.911338    0.907349    0.556394    0.350503  \n8             0.847006    0.750390    0.935111    0.739626    0.785203  \n9             0.860114    0.840515    0.931237    0.476269    0.832337  ",
      "text/html": "<div>\n<style scoped>\n    .dataframe tbody tr th:only-of-type {\n        vertical-align: middle;\n    }\n\n    .dataframe tbody tr th {\n        vertical-align: top;\n    }\n\n    .dataframe thead th {\n        text-align: right;\n    }\n</style>\n<table border=\"1\" class=\"dataframe\">\n  <thead>\n    <tr style=\"text-align: right;\">\n      <th>Unnamed: 0</th>\n      <th>cg00000029</th>\n      <th>cg00000103</th>\n      <th>cg00000109</th>\n      <th>cg00000155</th>\n      <th>cg00000158</th>\n      <th>cg00000165</th>\n      <th>cg00000221</th>\n      <th>cg00000236</th>\n      <th>cg00000292</th>\n      <th>cg00000321</th>\n    </tr>\n  </thead>\n  <tbody>\n    <tr>\n      <th>0</th>\n      <td>0.211696</td>\n      <td>0.845680</td>\n      <td>0.941455</td>\n      <td>0.963702</td>\n      <td>0.741913</td>\n      <td>0.092816</td>\n      <td>0.932019</td>\n      <td>0.934972</td>\n      <td>0.616315</td>\n      <td>0.367206</td>\n    </tr>\n    <tr>\n      <th>1</th>\n      <td>0.114783</td>\n      <td>0.684253</td>\n      <td>0.904912</td>\n      <td>0.948639</td>\n      <td>0.947776</td>\n      <td>0.194754</td>\n      <td>0.699980</td>\n      <td>0.828949</td>\n      <td>0.743092</td>\n      <td>0.560630</td>\n    </tr>\n    <tr>\n      <th>2</th>\n      <td>0.536747</td>\n      <td>0.814065</td>\n      <td>0.904288</td>\n      <td>0.956757</td>\n      <td>0.963727</td>\n      <td>0.250221</td>\n      <td>0.921995</td>\n      <td>0.891282</td>\n      <td>0.777081</td>\n      <td>0.296366</td>\n    </tr>\n    <tr>\n      <th>3</th>\n      <td>0.165536</td>\n      <td>0.782214</td>\n      <td>0.913657</td>\n      <td>0.952712</td>\n      <td>0.956434</td>\n      <td>0.501044</td>\n      <td>0.770795</td>\n      <td>0.848735</td>\n      <td>0.593127</td>\n      <td>0.298586</td>\n    </tr>\n    <tr>\n      <th>4</th>\n      <td>0.160484</td>\n      <td>0.467743</td>\n      <td>0.916486</td>\n      <td>0.954658</td>\n      <td>0.939483</td>\n      <td>0.682332</td>\n      <td>0.894427</td>\n      <td>0.850622</td>\n      <td>0.636629</td>\n      <td>0.442481</td>\n    </tr>\n    <tr>\n      <th>5</th>\n      <td>0.119399</td>\n      <td>0.744215</td>\n      <td>0.936152</td>\n      <td>0.943447</td>\n      <td>0.922293</td>\n      <td>0.435900</td>\n      <td>0.908002</td>\n      <td>0.935981</td>\n      <td>0.786134</td>\n      <td>0.497686</td>\n    </tr>\n    <tr>\n      <th>6</th>\n      <td>0.506022</td>\n      <td>0.758936</td>\n      <td>0.894816</td>\n      <td>0.938406</td>\n      <td>0.922727</td>\n      <td>0.342186</td>\n      <td>0.733169</td>\n      <td>0.905944</td>\n      <td>0.756986</td>\n      <td>0.417028</td>\n    </tr>\n    <tr>\n      <th>7</th>\n      <td>0.144923</td>\n      <td>0.429490</td>\n      <td>0.930336</td>\n      <td>0.954278</td>\n      <td>0.884528</td>\n      <td>0.423646</td>\n      <td>0.911338</td>\n      <td>0.907349</td>\n      <td>0.556394</td>\n      <td>0.350503</td>\n    </tr>\n    <tr>\n      <th>8</th>\n      <td>0.124337</td>\n      <td>0.393501</td>\n      <td>0.939587</td>\n      <td>0.953473</td>\n      <td>0.919704</td>\n      <td>0.847006</td>\n      <td>0.750390</td>\n      <td>0.935111</td>\n      <td>0.739626</td>\n      <td>0.785203</td>\n    </tr>\n    <tr>\n      <th>9</th>\n      <td>0.114317</td>\n      <td>0.177543</td>\n      <td>0.915736</td>\n      <td>0.948928</td>\n      <td>0.949012</td>\n      <td>0.860114</td>\n      <td>0.840515</td>\n      <td>0.931237</td>\n      <td>0.476269</td>\n      <td>0.832337</td>\n    </tr>\n  </tbody>\n</table>\n</div>"
     },
     "execution_count": 3,
     "metadata": {},
     "output_type": "execute_result"
    }
   ],
   "source": [
    "realworld_data = realworld_data.transpose()\n",
    "# We print a subset of the data\n",
    "realworld_data.iloc[0:10,0:10]"
   ],
   "metadata": {
    "collapsed": false,
    "ExecuteTime": {
     "end_time": "2025-03-21T09:56:09.579421Z",
     "start_time": "2025-03-21T09:56:09.576739Z"
    }
   },
   "id": "8c9113aef196e910",
   "execution_count": 3
  },
  {
   "cell_type": "markdown",
   "source": [
    "Now based on the real-world data we will simulate a simple dataset without dependencies between the sites.\n",
    "\n",
    "The function samples *n_sites* sites from the *realworld_data*, estimates their alpha and beta parameters and then draws *n_observations* observations from a beta distribution with these parameters."
   ],
   "metadata": {
    "collapsed": false
   },
   "id": "e0f6a28f71e9924b"
  },
  {
   "cell_type": "code",
   "outputs": [
    {
     "name": "stdout",
     "output_type": "stream",
     "text": [
      "[[0.77256737 0.71086086 0.56665025 ... 0.77183857 0.01654558 0.71611709]\n",
      " [0.7047468  0.71542005 0.6135414  ... 0.26233695 0.05076698 0.91823004]\n",
      " [0.89942615 0.96246651 0.84133557 ... 0.52018045 0.01921148 0.63705596]\n",
      " ...\n",
      " [0.52577532 0.91783685 0.75812309 ... 0.38336757 0.07444793 0.48851897]\n",
      " [0.7205487  0.91969425 0.64596037 ... 0.13863992 0.04259136 0.89658947]\n",
      " [0.286677   0.843527   0.70537606 ... 0.51049211 0.05917981 0.75539647]]\n"
     ]
    }
   ],
   "source": [
    "simulated_methylation = simulate_methyl_data(realworld_data = realworld_data,\n",
    "                                      n_sites=1000,\n",
    "                                      n_observations=20,\n",
    "                                      dependencies=False)\n",
    "\n",
    "print(simulated_methylation)"
   ],
   "metadata": {
    "collapsed": false,
    "ExecuteTime": {
     "end_time": "2025-03-21T09:56:09.696500Z",
     "start_time": "2025-03-21T09:56:09.582167Z"
    }
   },
   "id": "b323e6244d205f11",
   "execution_count": 4
  },
  {
   "cell_type": "markdown",
   "source": [
    "However, it is known that the methylation values of different sites are correlated. These correlations often arise due to the clustering of CpG sites into CpG islands, where methylation patterns tend to be locally similar. \n",
    "\n",
    "We can simulate this by setting the *dependencies* parameter to True. Additionally, one needs to provide the *bin_size* parameter, which determines the size of the islands and the *correlation_coefficient_distribution* parameter, which is an array of correlation coefficients. The function will then create islands of CpG sites with the given correlation coefficients.\n",
    "\n",
    "In this example we set the island size to 300 and the correlation coefficients to 0.9."
   ],
   "metadata": {
    "collapsed": false
   },
   "id": "35063a56bde605e6"
  },
  {
   "cell_type": "code",
   "outputs": [
    {
     "name": "stdout",
     "output_type": "stream",
     "text": [
      "[[0.20564482 0.17135183 0.07669515 ... 0.93422679 0.26050225 0.028543  ]\n",
      " [0.09556597 0.1853918  0.07204463 ... 0.89221833 0.73016897 0.03157517]\n",
      " [0.02484979 0.17794881 0.07433803 ... 0.90929445 0.53598004 0.01897325]\n",
      " ...\n",
      " [0.58314858 0.01962967 0.05019246 ... 0.9276064  0.1882652  0.02429068]\n",
      " [0.28204065 0.0323591  0.06593179 ... 0.90444739 0.30327369 0.020248  ]\n",
      " [0.09325758 0.27333958 0.06762173 ... 0.90874401 0.31817611 0.0185957 ]]\n"
     ]
    }
   ],
   "source": [
    "simulated_methylation_with_dependencies = simulate_methyl_data(realworld_data = realworld_data,\n",
    "                                          n_sites=1000,\n",
    "                                          n_observations=20,\n",
    "                                          dependencies=True,\n",
    "                                          bin_size=300,\n",
    "                                          correlation_coefficient_distribution=[(-0.85, -0.7), (-0.1, 0.1), (0.7, 0.85)])\n",
    "\n",
    "print(simulated_methylation_with_dependencies)"
   ],
   "metadata": {
    "collapsed": false,
    "ExecuteTime": {
     "end_time": "2025-03-21T09:56:10.147088Z",
     "start_time": "2025-03-21T09:56:09.658891Z"
    }
   },
   "id": "d54a98e13e6c1b66",
   "execution_count": 5
  },
  {
   "cell_type": "markdown",
   "source": [
    "Often one is interested in methylation data in m scale since it provides a more statistically suitable representation for downstream analyses. The methylation values can be transformed as follows:"
   ],
   "metadata": {
    "collapsed": false
   },
   "id": "92415fdf3fa82cfb"
  },
  {
   "cell_type": "code",
   "outputs": [
    {
     "name": "stdout",
     "output_type": "stream",
     "text": [
      "[[ 1.76422146  1.29780326  0.38692667 ...  1.75824425 -5.89334079\n",
      "   1.33489952]\n",
      " [ 1.25515234  1.32995655  0.66684682 ... -1.49154094 -4.2248\n",
      "   3.48921289]\n",
      " [ 3.16074966  4.68048591  2.40670256 ...  0.11652023 -5.6739015\n",
      "   0.81167296]\n",
      " ...\n",
      " [ 0.14887569  3.48167426  1.64815908 ... -0.68568244 -3.63601057\n",
      "  -0.06626615]\n",
      " [ 1.36649903  3.51757918  0.86753481 ... -2.63527369 -4.49050197\n",
      "   3.11606442]\n",
      " [-1.31512931  2.43052055  1.25951793 ...  0.06055655 -3.99074199\n",
      "   1.62678879]]\n",
      "[[-1.94962949 -2.27379809 -3.58959976 ...  3.82820077 -1.5052499\n",
      "  -5.08894126]\n",
      " [-3.24244632 -2.13552892 -3.68709254 ...  3.04928498  1.43617408\n",
      "  -4.93877752]\n",
      " [-5.29431914 -2.20776598 -3.63831312 ...  3.32548476  0.20799239\n",
      "  -5.69225345]\n",
      " ...\n",
      " [ 0.48433029 -5.64221897 -4.2420925  ...  3.67957867 -2.10824212\n",
      "  -5.32797647]\n",
      " [-1.34799904 -4.9022284  -3.8244818  ...  3.24266948 -1.19997171\n",
      "  -5.59656514]\n",
      " [-3.28139993 -1.41058698 -3.78535655 ...  3.31588285 -1.09957366\n",
      "  -5.72180687]]\n"
     ]
    }
   ],
   "source": [
    "simulated_methylation_mscale = beta_to_m(simulated_methylation)\n",
    "print(simulated_methylation_mscale)\n",
    "\n",
    "simulated_methylation_with_dependencies_mscale = beta_to_m(simulated_methylation_with_dependencies)\n",
    "print(simulated_methylation_with_dependencies_mscale)"
   ],
   "metadata": {
    "collapsed": false,
    "ExecuteTime": {
     "end_time": "2025-03-21T09:56:10.147631Z",
     "start_time": "2025-03-21T09:56:10.141468Z"
    }
   },
   "id": "b9da99167bf116cc",
   "execution_count": 6
  }
 ],
 "metadata": {
  "kernelspec": {
   "display_name": "Python 3",
   "language": "python",
   "name": "python3"
  },
  "language_info": {
   "codemirror_mode": {
    "name": "ipython",
    "version": 2
   },
   "file_extension": ".py",
   "mimetype": "text/x-python",
   "name": "python",
   "nbconvert_exporter": "python",
   "pygments_lexer": "ipython2",
   "version": "2.7.6"
  }
 },
 "nbformat": 4,
 "nbformat_minor": 5
}
